{
 "cells": [
  {
   "cell_type": "code",
   "execution_count": 1,
   "id": "08721865-3593-4907-a3a9-a79c3777be63",
   "metadata": {},
   "outputs": [
    {
     "name": "stdout",
     "output_type": "stream",
     "text": [
      "1. Phone \n",
      "2. Tablet \n",
      "3. RGB Coffee Mug \n",
      "4. Keyboard \n",
      "5. PC \n"
     ]
    }
   ],
   "source": [
    "import re\n",
    "\n",
    "mylines = []\n",
    "with open ('company.txt') as file:\n",
    "    file = file.readlines()\n",
    "    for line in file:\n",
    "        line = list(map(lambda x: x.replace('\\n', '').replace('-', ''), file))\n",
    "        mylines.append(line)\n",
    "\n",
    "product = line.index('NOTABLE PRODUCTS')\n",
    "overview = line.index('OVERVIEW')\n",
    "result = line[product:overview][2:-1]\n",
    "\n",
    "def to_dictionary(values):\n",
    "    final = []\n",
    "    for val in values:\n",
    "        value = re.findall('\\((.*?)\\)',val)\n",
    "        key = re.split('[()]', val)[0]\n",
    "        new_dict = {key:value[0]}\n",
    "        final.append(new_dict)\n",
    "    return final\n",
    "clean_result = to_dictionary(result)\n",
    "\n",
    "def convert(values):\n",
    "    final = []\n",
    "    for item in values:\n",
    "        for k, v in item.items():\n",
    "            if 'million' in v:\n",
    "                new_val = {'item':k, 'sales':(int(float(v.split()[0]) * 10**6))}\n",
    "                final.append(new_val)\n",
    "            else:\n",
    "                new_val = {'item':k, 'sales':(int(float(v.split()[0]) * 10**3))}\n",
    "                final.append(new_val)\n",
    "    return final\n",
    "final_values = convert(clean_result)\n",
    "\n",
    "sort_values = sorted(final_values, key=lambda d: d['sales'], reverse=True)\n",
    "for i, n in enumerate(sort_values[0:5], 1):\n",
    "    print(i, n['item'], sep='. ')  "
   ]
  },
  {
   "cell_type": "code",
   "execution_count": null,
   "id": "1257910f-53d7-40a5-981d-7005031a68d7",
   "metadata": {},
   "outputs": [],
   "source": []
  },
  {
   "cell_type": "code",
   "execution_count": 6,
   "id": "84f5c809-6634-409f-9da1-cb1270597338",
   "metadata": {},
   "outputs": [
    {
     "name": "stdin",
     "output_type": "stream",
     "text": [
      "Input from 1-5 to see unit sold of Top 5 items: 5\n"
     ]
    },
    {
     "name": "stdout",
     "output_type": "stream",
     "text": [
      "ACME PC has sold 176000 units.\n"
     ]
    }
   ],
   "source": [
    "result = sort_values[0:5]\n",
    "\n",
    "top_5 =[]\n",
    "sales =[]\n",
    "def myfunction(Notable_product):\n",
    "    for n in result:\n",
    "        top = n['item']\n",
    "        sale = n['sales']\n",
    "        top_5.append(top)\n",
    "        sales.append(sale)\n",
    "    return top_5, sales\n",
    "Notable_product = int(input('Input from 1-5 to see unit sold of Top 5 items:'))\n",
    "myfunction(Notable_product)\n",
    "\n",
    "if Notable_product == 1:\n",
    "    print(f'ACME {top_5[0]}has sold {sales[0]} units.')\n",
    "elif Notable_product == 2:\n",
    "    print(f'ACME {top_5[1]}has sold {sales[1]} units.')\n",
    "elif Notable_product == 3:\n",
    "    print(f'ACME {top_5[2]}has sold {sales[2]} units.')\n",
    "elif Notable_product == 4:\n",
    "    print(f'ACME {top_5[3]}has sold {sales[3]} units.')\n",
    "elif Notable_product == 5:\n",
    "    print(f'ACME {top_5[4]}has sold {sales[4]} units.')"
   ]
  },
  {
   "cell_type": "code",
   "execution_count": null,
   "id": "195c7598-32d0-44ff-8c21-13508b8b6faa",
   "metadata": {},
   "outputs": [],
   "source": []
  }
 ],
 "metadata": {
  "kernelspec": {
   "display_name": "Python 3 (ipykernel)",
   "language": "python",
   "name": "python3"
  },
  "language_info": {
   "codemirror_mode": {
    "name": "ipython",
    "version": 3
   },
   "file_extension": ".py",
   "mimetype": "text/x-python",
   "name": "python",
   "nbconvert_exporter": "python",
   "pygments_lexer": "ipython3",
   "version": "3.9.12"
  }
 },
 "nbformat": 4,
 "nbformat_minor": 5
}
